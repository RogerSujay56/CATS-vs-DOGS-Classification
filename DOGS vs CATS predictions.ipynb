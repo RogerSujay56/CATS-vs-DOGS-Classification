{
 "cells": [
  {
   "cell_type": "code",
   "execution_count": 24,
   "id": "9332e05d",
   "metadata": {},
   "outputs": [],
   "source": [
    "from tensorflow.keras.models import load_model"
   ]
  },
  {
   "cell_type": "code",
   "execution_count": 25,
   "id": "715fff45",
   "metadata": {},
   "outputs": [],
   "source": [
    "model=load_model('mymodel.h5')"
   ]
  },
  {
   "cell_type": "code",
   "execution_count": 26,
   "id": "5ab0914b",
   "metadata": {},
   "outputs": [],
   "source": [
    "import cv2"
   ]
  },
  {
   "cell_type": "code",
   "execution_count": 27,
   "id": "472eebd5",
   "metadata": {},
   "outputs": [],
   "source": [
    "def get_prediction(path):\n",
    "    A=cv2.imread(path)\n",
    "    A=cv2.resize(A,(224,224))\n",
    "    A=A.reshape(1,224,224,3)/255\n",
    "    n=model.predict(A).argmax()\n",
    "    return 'cat' if n==0 else 'dog'"
   ]
  },
  {
   "cell_type": "code",
   "execution_count": 49,
   "id": "25b5ecaf",
   "metadata": {},
   "outputs": [
    {
     "data": {
      "text/plain": [
       "'dog'"
      ]
     },
     "execution_count": 49,
     "metadata": {},
     "output_type": "execute_result"
    }
   ],
   "source": [
    "get_prediction('../../Datasets/CATSvsDOGS/dog10.jpg')"
   ]
  },
  {
   "cell_type": "code",
   "execution_count": 50,
   "id": "bfa4d839",
   "metadata": {},
   "outputs": [],
   "source": [
    "import os"
   ]
  },
  {
   "cell_type": "code",
   "execution_count": 52,
   "id": "7b96db78",
   "metadata": {},
   "outputs": [],
   "source": [
    "folder_location= '../../Datasets/CATSvsDOGS/'"
   ]
  },
  {
   "cell_type": "code",
   "execution_count": 53,
   "id": "a3d433e1",
   "metadata": {},
   "outputs": [],
   "source": [
    "file_names=os.listdir(folder_location)"
   ]
  },
  {
   "cell_type": "code",
   "execution_count": 54,
   "id": "53fa0540",
   "metadata": {},
   "outputs": [
    {
     "name": "stdout",
     "output_type": "stream",
     "text": [
      "cat1.jpg \t>>> cat\n",
      "cat10.jpg \t>>> cat\n",
      "cat2.jpg \t>>> cat\n",
      "cat3.jpg \t>>> cat\n",
      "cat4.jpg \t>>> dog\n",
      "cat5.jpg \t>>> dog\n",
      "cat6.jpg \t>>> cat\n",
      "cat7.jpg \t>>> dog\n",
      "cat8.jpg \t>>> cat\n",
      "cat9.jpg \t>>> cat\n",
      "dog1.jpg \t>>> dog\n",
      "dog10.jpg \t>>> dog\n",
      "dog2.jpg \t>>> dog\n",
      "dog3.jpg \t>>> dog\n",
      "dog4.jpg \t>>> dog\n",
      "dog5.jpg \t>>> dog\n",
      "dog6.jpg \t>>> dog\n",
      "dog7.jpg \t>>> dog\n",
      "dog8.jpg \t>>> dog\n",
      "dog9.jpg \t>>> dog\n"
     ]
    }
   ],
   "source": [
    "for file in file_names:\n",
    "    animal=get_prediction(folder_location+file)\n",
    "    print(file,'\\t>>>',animal)"
   ]
  },
  {
   "cell_type": "code",
   "execution_count": null,
   "id": "4ccd800f",
   "metadata": {},
   "outputs": [],
   "source": []
  }
 ],
 "metadata": {
  "kernelspec": {
   "display_name": "Python 3",
   "language": "python",
   "name": "python3"
  },
  "language_info": {
   "codemirror_mode": {
    "name": "ipython",
    "version": 3
   },
   "file_extension": ".py",
   "mimetype": "text/x-python",
   "name": "python",
   "nbconvert_exporter": "python",
   "pygments_lexer": "ipython3",
   "version": "3.8.8"
  }
 },
 "nbformat": 4,
 "nbformat_minor": 5
}
